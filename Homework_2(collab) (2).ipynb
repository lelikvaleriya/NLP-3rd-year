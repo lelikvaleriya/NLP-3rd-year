{
  "nbformat": 4,
  "nbformat_minor": 0,
  "metadata": {
    "colab": {
      "name": "Homework 2(collab).ipynb",
      "provenance": [],
      "collapsed_sections": []
    },
    "kernelspec": {
      "name": "python3",
      "display_name": "Python 3"
    }
  },
  "cells": [
    {
      "cell_type": "code",
      "metadata": {
        "id": "I1vavFXksGD4"
      },
      "source": [
        "from flair.data import Sentence\n",
        "from flair.models import SequenceTagger\n"
      ],
      "execution_count": null,
      "outputs": []
    },
    {
      "cell_type": "code",
      "metadata": {
        "id": "OCKt2kZ3wbeV"
      },
      "source": [
        "import re"
      ],
      "execution_count": null,
      "outputs": []
    },
    {
      "cell_type": "code",
      "metadata": {
        "id": "oaVlqfWQwGkX"
      },
      "source": [
        "txt_eng = '''''The summer dance. The count invited his neighbors to a summer ball. To prepare for the event, he hired a farmer to clean the castle yard. There was wood to chop with a saw, and there was a nag that needed to be fed. While the chores were being completed, the count walked down the path to the garden. The date listed on his watch showed May. He shed a tear as he stared at the plot of dirt that now looked like a desert. He remembered the date as if it were yesterday. Even now, when the count thought about his prized roses, it was more than he could bear.'''''"
      ],
      "execution_count": null,
      "outputs": []
    },
    {
      "cell_type": "code",
      "metadata": {
        "id": "fSxJaJPrC--_"
      },
      "source": [
        "morph_eng_test = ['DT', 'NOUN', 'NOUN', 'DT', 'NOUN', 'V', 'PRON', 'NOUN', 'PREP', 'DT', 'NOUN', 'NOUN', 'PREP', 'V', 'PREP', 'DT', 'NOUN', 'PRON', 'V', 'DT', 'NOUN', 'PREP', 'V', 'DT', 'NOUN', 'NOUN', 'A', 'V', 'NOUN', 'PREP', 'V', 'PREP', 'DT', 'NOUN', 'CC', 'A', 'V', 'DT', 'NOUN', 'NOUN', 'V', 'PREP', 'V', 'V', 'CC', 'DT', 'NOUN', 'V', 'V', 'V', 'DT', 'NOUN', 'V', 'PREP', 'DT', 'NOUN', 'PREP', 'DT', 'NOUN', 'DT', 'NOUN', 'V', 'PREP', 'PRON', 'NOUN', 'V', 'NOUN', 'PRON', 'V', 'DT', 'NOUN', 'CC', 'PRON', 'V', 'PREP', 'DT', 'NOUN', 'PREP', 'NOUN', 'NOUN', 'A', 'V', 'A', 'DT', 'NOUN', 'PRON', 'V', 'DT', 'NOUN', 'CC', 'CC', 'PRON', 'V', 'A', 'CC', 'A', 'CC', 'DT', 'NOUN', 'V', 'PREP', 'NOUN', 'V', 'NOUN', 'PRON', 'V', 'A', 'CC', 'PRON', 'V', 'V']"
      ],
      "execution_count": null,
      "outputs": []
    },
    {
      "cell_type": "code",
      "metadata": {
        "id": "Y24zJvq8wGut"
      },
      "source": [
        "def clean_txt(txt):\n",
        "    txt = txt.lower()\n",
        "    txt = re.sub(r'[^\\w\\s]','', txt)\n",
        "    return(txt) #функция приводит к нижнему регистру и чистит от знаков препинания"
      ],
      "execution_count": null,
      "outputs": []
    },
    {
      "cell_type": "code",
      "metadata": {
        "id": "EpsdibfqwGxY"
      },
      "source": [
        "eng = clean_txt(txt_eng)"
      ],
      "execution_count": null,
      "outputs": []
    },
    {
      "cell_type": "code",
      "metadata": {
        "id": "AXefTupasGNM",
        "outputId": "9e4ed4bf-150a-4680-b7ec-7e9a25f6c700",
        "colab": {
          "base_uri": "https://localhost:8080/",
          "height": 122
        }
      },
      "source": [
        "# создаем предложение\n",
        "sentence = Sentence(eng)\n",
        "\n",
        "# загружаем модель теггинга\n",
        "tagger = SequenceTagger.load('pos')\n",
        "\n",
        "# обрабатываем предложение\n",
        "# ВАЖНО: объект `sentence` при этом меняется\n",
        "tagger.predict(sentence)\n",
        "\n",
        "#print(sentence)\n",
        "flair_txt = sentence.to_tagged_string()"
      ],
      "execution_count": null,
      "outputs": [
        {
          "output_type": "stream",
          "text": [
            "2020-10-14 20:55:22,907 https://nlp.informatik.hu-berlin.de/resources/models/pos/en-pos-ontonotes-v0.5.pt not found in cache, downloading to /tmp/tmp_z6mow0m\n"
          ],
          "name": "stdout"
        },
        {
          "output_type": "stream",
          "text": [
            "100%|██████████| 249072763/249072763 [00:11<00:00, 21367677.51B/s]"
          ],
          "name": "stderr"
        },
        {
          "output_type": "stream",
          "text": [
            "2020-10-14 20:55:34,939 copying /tmp/tmp_z6mow0m to cache at /root/.flair/models/en-pos-ontonotes-v0.5.pt\n"
          ],
          "name": "stdout"
        },
        {
          "output_type": "stream",
          "text": [
            "\n"
          ],
          "name": "stderr"
        },
        {
          "output_type": "stream",
          "text": [
            "2020-10-14 20:55:35,466 removing temp file /tmp/tmp_z6mow0m\n",
            "2020-10-14 20:55:35,949 loading file /root/.flair/models/en-pos-ontonotes-v0.5.pt\n"
          ],
          "name": "stdout"
        }
      ]
    },
    {
      "cell_type": "code",
      "metadata": {
        "id": "jjtR6lDSsGPo",
        "outputId": "2e572b4d-35ff-4339-fb6c-29edf8bb4f10",
        "colab": {
          "base_uri": "https://localhost:8080/",
          "height": 137
        }
      },
      "source": [
        "flair_txt"
      ],
      "execution_count": null,
      "outputs": [
        {
          "output_type": "execute_result",
          "data": {
            "application/vnd.google.colaboratory.intrinsic+json": {
              "type": "string"
            },
            "text/plain": [
              "'the <DT> summer <NN> dance <NN> the <DT> count <NN> invited <VBD> his <PRP$> neighbors <NNS> to <IN> a <DT> summer <NN> ball <NN> to <TO> prepare <VB> for <IN> the <DT> event <NN> he <PRP> hired <VBD> a <DT> farmer <NN> to <TO> clean <VB> the <DT> castle <NN> yard <NN> there <EX> was <VBD> wood <NN> to <TO> chop <VB> with <IN> a <DT> saw <NN> and <CC> there <EX> was <VBD> a <DT> nag <NN> that <WDT> needed <VBD> to <TO> be <VB> fed <VBN> while <IN> the <DT> chores <NNS> were <VBD> being <VBG> completed <VBN> the <DT> count <NN> walked <VBD> down <IN> the <DT> path <NN> to <IN> the <DT> garden <NN> the <DT> date <NN> listed <VBN> on <IN> his <PRP$> watch <NN> showed <VBD> may <MD> he <PRP> shed <VB> a <DT> tear <NN> as <IN> he <PRP> stared <VBD> at <IN> the <DT> plot <NN> of <IN> dirt <NN> that <WDT> now <RB> looked <VBD> like <IN> a <DT> desert <NN> he <PRP> remembered <VBD> the <DT> date <NN> as <IN> if <IN> it <PRP> were <VBD> yesterday <NN> even <RB> now <RB> when <WRB> the <DT> count <NN> thought <VBD> about <IN> his <PRP$> prized <JJ> roses <NNS> it <PRP> was <VBD> more <JJR> than <IN> he <PRP> could <MD> bear <VB>'"
            ]
          },
          "metadata": {
            "tags": []
          },
          "execution_count": 15
        }
      ]
    },
    {
      "cell_type": "code",
      "metadata": {
        "id": "YfhuZF4SsGSA"
      },
      "source": [
        "flair_txt = re.sub(r'[^\\w\\s]','', flair_txt)"
      ],
      "execution_count": null,
      "outputs": []
    },
    {
      "cell_type": "code",
      "metadata": {
        "id": "QNnKK9w-sGVN"
      },
      "source": [
        "f = flair_txt.split()"
      ],
      "execution_count": null,
      "outputs": []
    },
    {
      "cell_type": "code",
      "metadata": {
        "id": "C_NVCMIHzVJn"
      },
      "source": [
        "train_flair = f[1::2]"
      ],
      "execution_count": null,
      "outputs": []
    },
    {
      "cell_type": "code",
      "metadata": {
        "id": "W8s4bSkBzVTR"
      },
      "source": [
        "def convertizer(pos_list):\n",
        "    new_list = []\n",
        "    for el in pos_list:\n",
        "        if el == 'NOUN' or el == 'S' or el == 'NN' or el == 'NNS':\n",
        "            new_list.append('NOUN')\n",
        "        if el == 'V' or el == 'VERB' or el == 'GRND' or el == 'VB' or el == 'VBG' or el == 'VBD' or el == 'VBZ' or el == 'VBN' or el == 'PRTS' or el == 'VBN' or el == 'MD' or el == 'AUX':\n",
        "            new_list.append('V')\n",
        "        if el == 'ADJ' or el == 'ADJF' or el == 'A' or el == 'JJ':\n",
        "            new_list.append('ADJ')\n",
        "        if el == 'ADV' or el == 'ADVB' or el == 'RB' or el == 'WRB' or el == 'EX':\n",
        "            new_list.append('A')\n",
        "        if 'PRO' in el or el == 'WDT':\n",
        "            new_list.append('PRON')\n",
        "        if el == 'PREP' or el == 'PR' or el == 'ADP' or el =='PRP$' or el == 'PRP' or el == 'TO' or el == 'IN':\n",
        "            new_list.append('PREP')\n",
        "        if el == 'DT' or el == 'DET':\n",
        "            new_list.append('DT')\n",
        "        if el == 'CONJ' or el == 'CC' or el == 'CCONJ' or el == 'SCONJ':\n",
        "            new_list.append('CONJ')\n",
        "        if el == 'NUM' or el == 'NUMR' or el == 'ANUM':\n",
        "            new_list.append('NUM')\n",
        "        if el == 'PRCL' or el == 'PART':\n",
        "            new_list.append('PART')\n",
        "        #else:\n",
        "        #    new_list.append(el)\n",
        "    return(new_list)"
      ],
      "execution_count": null,
      "outputs": []
    },
    {
      "cell_type": "code",
      "metadata": {
        "id": "9f-pLqQ3DI9W"
      },
      "source": [
        "fin_flair = convertizer(train_flair)"
      ],
      "execution_count": null,
      "outputs": []
    },
    {
      "cell_type": "code",
      "metadata": {
        "id": "AfycjyZLHDls"
      },
      "source": [
        "from sklearn.metrics import accuracy_score"
      ],
      "execution_count": null,
      "outputs": []
    },
    {
      "cell_type": "code",
      "metadata": {
        "id": "vL5EfP9kzVW7",
        "outputId": "86ab0f44-d67e-41a6-854b-dacd55d2bcf0",
        "colab": {
          "base_uri": "https://localhost:8080/",
          "height": 34
        }
      },
      "source": [
        "accuracy_score(fin_flair, morph_eng_test)"
      ],
      "execution_count": null,
      "outputs": [
        {
          "output_type": "execute_result",
          "data": {
            "text/plain": [
              "0.7207207207207207"
            ]
          },
          "metadata": {
            "tags": []
          },
          "execution_count": 27
        }
      ]
    }
  ]
}